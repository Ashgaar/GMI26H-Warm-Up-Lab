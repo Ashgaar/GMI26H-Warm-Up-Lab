{
 "cells": [
  {
   "cell_type": "markdown",
   "id": "056aeb53",
   "metadata": {},
   "source": [
    "# GMI26H Cryptography Compulsory JNB Python Warm-up Lab"
   ]
  },
  {
   "cell_type": "markdown",
   "id": "3ddb3512",
   "metadata": {},
   "source": [
    "### You must upload your solutions in .ipynb format to Learn by Thursday September 15th at 11:59 PM with your solutions added to this file."
   ]
  },
  {
   "cell_type": "markdown",
   "id": "4b6b2310",
   "metadata": {},
   "source": [
    "Write your name and email below. Don't edit the header or the questions or anything else. Add your answers in text or code to cells below the questions."
   ]
  },
  {
   "cell_type": "markdown",
   "id": "7562791f",
   "metadata": {},
   "source": [
    "### Student name: Mikael Olsson\n",
    "\n",
    "### DU email address: h20mikol@du.se"
   ]
  },
  {
   "cell_type": "markdown",
   "id": "ebe574bc",
   "metadata": {},
   "source": [
    "### AES Lab 1 will take place Friday September 16th at 9:00 AM sharp, so everyone is expected to have submitted their solutions to this lab by the previous night and have their JNBs running. Contact Charlie/Hasan regarding the labs if you have questions. If you cannot make the September 15th deadline, you can submit later but note that only two resubmissions are allowed. Resubmission deadlines are TBA."
   ]
  },
  {
   "cell_type": "markdown",
   "id": "45d410e0",
   "metadata": {},
   "source": [
    "## Task 1"
   ]
  },
  {
   "cell_type": "markdown",
   "id": "14c80bb4",
   "metadata": {},
   "source": [
    "a) All valid International Standard Book Number 13 (ISBN-13) numbers satisfy\n",
    "\n",
    "$$m \\equiv 0 \\mod 10,$$\n",
    "\n",
    "where\n",
    "\n",
    "$$m = x_1+3x_2+x_3+3x_4+x_5+3x_6+x_7+3x_8+x_9+3x_{10}+x_{11}+3x_{12}+x_{13}$$\n",
    "\n",
    "and $x_1$ is the first (leftmost) digit of positive integer $n$, $x_2$ is the second digit, and so on. For example, for $n=9781252434434$, $x_1=9$ and $x_2=7$, and so on.\n",
    "\n",
    "Use Python (and/or Sage) to define a function that checks whether or not a positive integer argument $n$ is a valid ISBN-13 number.\n",
    "\n",
    "The function should take only one argument, that is, the number $n$ (not $m$). The value of $m$ can be calculated with $n$ inside the function implementation. The function should return string \"Valid\" if $n$ is valid and string \"Invalid\" if $n$ is invalid. You can assume that $n$ is a 13-digit number."
   ]
  },
  {
   "cell_type": "code",
   "execution_count": 34,
   "id": "9b6e7bc2",
   "metadata": {},
   "outputs": [
    {
     "data": {
      "text/plain": [
       "'Valid'"
      ]
     },
     "execution_count": 34,
     "metadata": {},
     "output_type": "execute_result"
    }
   ],
   "source": [
    "def check_isbn(n):\n",
    "    n = str(n)\n",
    "    sum = 0\n",
    "    counter = 0\n",
    "    \n",
    "    for i in n:\n",
    "        counter += 1\n",
    "        if counter % 2 == 1:\n",
    "            sum = sum + int(i)\n",
    "        if counter % 2 == 0:\n",
    "            l = 3 * int(i)\n",
    "            sum = sum + l\n",
    "            \n",
    "    if sum % 10 == 0:\n",
    "        return 'Valid'\n",
    "    else:\n",
    "        return 'Invalid'\n",
    "    \n",
    "check_isbn(9781506711980)"
   ]
  },
  {
   "cell_type": "markdown",
   "id": "d3d99c68",
   "metadata": {},
   "source": [
    "b) Use the function that you just wrote to verify that $n=9781252434434$ is invalid."
   ]
  },
  {
   "cell_type": "code",
   "execution_count": 35,
   "id": "17643574",
   "metadata": {},
   "outputs": [
    {
     "data": {
      "text/plain": [
       "'Invalid'"
      ]
     },
     "execution_count": 35,
     "metadata": {},
     "output_type": "execute_result"
    }
   ],
   "source": [
    "check_isbn(9781252434434)"
   ]
  },
  {
   "cell_type": "markdown",
   "id": "231da4b6",
   "metadata": {},
   "source": [
    "c) Use the function that you just wrote to verify that the ISBN-13 number of the course book \"Stallings, W. (2022). Cryptography and Network Security: Principles and Practice, Global Edition. Pearson\" is valid."
   ]
  },
  {
   "cell_type": "code",
   "execution_count": 36,
   "id": "00cb3253",
   "metadata": {},
   "outputs": [
    {
     "data": {
      "text/plain": [
       "'Valid'"
      ]
     },
     "execution_count": 36,
     "metadata": {},
     "output_type": "execute_result"
    }
   ],
   "source": [
    "check_isbn(9781292437484)"
   ]
  },
  {
   "cell_type": "markdown",
   "id": "e9161272",
   "metadata": {},
   "source": [
    "## Task 2"
   ]
  },
  {
   "cell_type": "markdown",
   "id": "678f1e21",
   "metadata": {},
   "source": [
    "In modular arithmetic, positive integer $g$ is called a primitive root of prime $p$ if every number $a$, with $1\\leq a < n$, is congruent to a power of $g$ modulo $p$.\n",
    "\n",
    "For example, $2$ is a primitive root of $5$ because for all numbers $a$ coprime to $5$, that is, for numbers $a=1$, $a=2$, $a=3$, and $a=4$, there exists an $i$ such that a power of $2$ (a number $2^i$) is congruent to $a$ as\n",
    "\n",
    "$$2^1=2\\mod 5,$$\n",
    "$$2^2=4\\mod 5,$$\n",
    "$$2^3=3\\mod 5,$$\n",
    "$$2^4=1\\mod 5.$$\n",
    "\n",
    "For $a=1$, $i=4$. For $a=2$, $i=1$. For $a=3$, $i=3$. For $a=4$, $i=2$.\n",
    "\n",
    "a) Use Python (and/or Sage) to write a program that prints the first $12$ powers of\n",
    "\n",
    "$$11^i \\mod 13$$\n",
    "\n",
    "(where $i$ goes from $1$ to $12$) and explain why $11$ is a primitive root of $13$ by examining the printout."
   ]
  },
  {
   "cell_type": "code",
   "execution_count": 37,
   "id": "02b3d89c",
   "metadata": {},
   "outputs": [
    {
     "name": "stdout",
     "output_type": "stream",
     "text": [
      "Mod is 13\n",
      "If I = 1 then 11\n",
      "If I = 2 then 4\n",
      "If I = 3 then 5\n",
      "If I = 4 then 3\n",
      "If I = 5 then 7\n",
      "If I = 6 then 12\n",
      "If I = 7 then 2\n",
      "If I = 8 then 9\n",
      "If I = 9 then 8\n",
      "If I = 10 then 10\n",
      "If I = 11 then 6\n",
      "If I = 12 then 1\n",
      "If I = 13 then 11\n"
     ]
    }
   ],
   "source": [
    "def primitive_integer():\n",
    "    mod = 13\n",
    "    print(f'Mod is {mod}')\n",
    "    for i in range(13):\n",
    "        i += 1\n",
    "        result = pow(11, i) % mod\n",
    "        print(f'If I = {i} then {result}')\n",
    "        \n",
    "primitive_integer()"
   ]
  },
  {
   "cell_type": "markdown",
   "id": "dca81280",
   "metadata": {},
   "source": [
    "Your explanation here: We are looking for a value i such that $11^{i}$ mod 13 prints out all values from 1 - 12. Looking at the resulting print from the program we can see that it is the case for 11."
   ]
  },
  {
   "cell_type": "markdown",
   "id": "781078bb",
   "metadata": {},
   "source": [
    "## Task 3"
   ]
  },
  {
   "cell_type": "markdown",
   "id": "0666cb34",
   "metadata": {},
   "source": [
    "Let $n=pq$, where $p=43$ and $q=79$. Write a snippet of Python (and/or Sage) code that solves\n",
    "\n",
    "$$279 = 47^i \\mod n$$\n",
    "\n",
    "for $i$. In other words, your program needs to find $i$ so that the above expression is satisfied. You can use a for-loop."
   ]
  },
  {
   "cell_type": "code",
   "execution_count": 38,
   "id": "3ac7e309",
   "metadata": {},
   "outputs": [
    {
     "name": "stdout",
     "output_type": "stream",
     "text": [
      "3465122572092046296464724059395298458186535561070143621795409889 % 3397 = 279\n",
      "i = 38\n"
     ]
    }
   ],
   "source": [
    "def calculate():\n",
    "    p = 43\n",
    "    q = 79\n",
    "    n = p * q\n",
    "    a = 47\n",
    "    expected = 279\n",
    "    \n",
    "    for i in range(129301293012859024859):\n",
    "        power = pow(a,i)\n",
    "        result = power % n\n",
    "        \n",
    "        if result == expected:\n",
    "            print(f'{power} % {n} = 279')\n",
    "            print(f'i = {i}')\n",
    "            break\n",
    "        else:\n",
    "            continue\n",
    "        \n",
    "calculate()"
   ]
  }
 ],
 "metadata": {
  "kernelspec": {
   "display_name": "Python 3.10.1 64-bit",
   "language": "python",
   "name": "python3"
  },
  "language_info": {
   "codemirror_mode": {
    "name": "ipython",
    "version": 3
   },
   "file_extension": ".py",
   "mimetype": "text/x-python",
   "name": "python",
   "nbconvert_exporter": "python",
   "pygments_lexer": "ipython3",
   "version": "3.10.1"
  },
  "vscode": {
   "interpreter": {
    "hash": "6b41b13da69560a918c3d64d2127bc4b8ad8695f4f03e3c7564df4d35b03275b"
   }
  }
 },
 "nbformat": 4,
 "nbformat_minor": 5
}
